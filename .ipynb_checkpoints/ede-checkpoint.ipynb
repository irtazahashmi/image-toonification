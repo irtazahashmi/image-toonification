{
 "cells": [
  {
   "cell_type": "code",
   "execution_count": null,
   "id": "800a6e13",
   "metadata": {},
   "outputs": [],
   "source": [
    "import cv2\n",
    "import numpy as np\n",
    "from matplotlib import pyplot as plt"
   ]
  },
  {
   "cell_type": "code",
   "execution_count": null,
   "id": "9186ad82",
   "metadata": {},
   "outputs": [],
   "source": [
    "image = cv2.cvtColor(cv2.imread('./images/tulip.png', cv2.IMREAD_COLOR), cv2.COLOR_BGR2RGB)"
   ]
  },
  {
   "cell_type": "code",
   "execution_count": null,
   "id": "f132ac3c",
   "metadata": {},
   "outputs": [],
   "source": [
    "plt.imshow(image)\n",
    "plt.show()"
   ]
  },
  {
   "cell_type": "code",
   "execution_count": null,
   "id": "b7a8b33e",
   "metadata": {},
   "outputs": [],
   "source": [
    "luminosity_coefficients = np.asarray([20, 40, 1]) / 61\n",
    "luminosity_coefficients = np.asarray([0.2126, 0.7152, 0.0722])\n",
    "sigma_s = np.min(image.shape[:2]) * (1/16)\n",
    "sigma_r = 0.4\n",
    "\n",
    "eps = 1e-8"
   ]
  },
  {
   "cell_type": "code",
   "execution_count": null,
   "id": "bbc5b6ce",
   "metadata": {},
   "outputs": [],
   "source": [
    "image_gray = luminosity_coefficients[0] * image[:,:,0] + luminosity_coefficients[1] * image[:,:,1] + luminosity_coefficients[2] * image[:,:,2]\n",
    "plt.imshow(image_gray)\n",
    "plt.show()"
   ]
  },
  {
   "cell_type": "code",
   "execution_count": null,
   "id": "3b7c0d95",
   "metadata": {},
   "outputs": [],
   "source": [
    "image_gray"
   ]
  },
  {
   "cell_type": "code",
   "execution_count": null,
   "id": "c710b435",
   "metadata": {},
   "outputs": [],
   "source": [
    "image_gray = (image_gray / np.amax(image_gray))"
   ]
  },
  {
   "cell_type": "code",
   "execution_count": null,
   "id": "8064aece",
   "metadata": {},
   "outputs": [],
   "source": [
    "image_gray"
   ]
  },
  {
   "cell_type": "code",
   "execution_count": null,
   "id": "d28a0fec",
   "metadata": {},
   "outputs": [],
   "source": [
    "\n",
    "image_intensity_log = np.log10(image_gray + eps)"
   ]
  },
  {
   "cell_type": "code",
   "execution_count": null,
   "id": "052e62cb",
   "metadata": {},
   "outputs": [],
   "source": [
    "image_intensity_log"
   ]
  },
  {
   "cell_type": "code",
   "execution_count": null,
   "id": "bd563622",
   "metadata": {},
   "outputs": [],
   "source": [
    "image_intensity_log.shape"
   ]
  },
  {
   "cell_type": "code",
   "execution_count": null,
   "id": "d4eb0565",
   "metadata": {},
   "outputs": [],
   "source": [
    "from matplotlib import pyplot as plt\n",
    "plt.imshow(image_intensity_log)\n",
    "plt.show()"
   ]
  },
  {
   "cell_type": "code",
   "execution_count": null,
   "id": "519f9589",
   "metadata": {},
   "outputs": [],
   "source": [
    "import cv2\n",
    "import numpy as np\n",
    "import scipy.stats\n",
    "\n",
    "import pdb\n",
    "import matplotlib.pyplot as plt\n",
    "\n",
    "\n",
    "class BilateralFilter():\n",
    "  \"\"\" Performs bilateral filtering on an input image.\n",
    "  Args:\n",
    "    x - input image\n",
    "    sigma - standard deviation of Gaussian\n",
    "    \n",
    "  \"\"\"\n",
    "  def __init__(self, sigma_s=None, sigma_r=0.1, \n",
    "    downsample=1, not_separable=False, save_loc='./results'):\n",
    "    # filter paramters\n",
    "    self.sigma_s = sigma_s\n",
    "    self.sigma_r = sigma_r\n",
    "    self.downsample = downsample\n",
    "    self.use_separable = not not_separable\n",
    "    self.save_loc = save_loc\n",
    "    self.eps = 1e-10\n",
    "\n",
    "  def filter(self, image):\n",
    "    # initialize sigma_s\n",
    "    if(self.sigma_s is None):\n",
    "      self.sigma_s = np.min(image.shape[:2]) * 0.02\n",
    "\n",
    "    # normalize\n",
    "    if('int' in str(image.dtype)):\n",
    "      image = (image / np.amax(image)).astype(np.float32)\n",
    "    else:\n",
    "      image = image.astype(np.float32)\n",
    "    J_img = np.zeros_like(image)\n",
    "\n",
    "    # image shape\n",
    "    img_H, img_W = image.shape\n",
    "\n",
    "    # resize the image\n",
    "    dsize = (img_W // self.downsample, img_H // self.downsample)\n",
    "    I = cv2.resize(image, dsize=dsize, interpolation=cv2.INTER_LINEAR)\n",
    "\n",
    "    # intensity range gaussian\n",
    "    rkernel = GaussianRange(I, self.sigma_r)\n",
    "\n",
    "    # image max and min intensity\n",
    "    Imax = np.amax(I)\n",
    "    Imin = np.amin(I)\n",
    "    nb_segments = int((Imax - Imin) // self.sigma_r + 1)\n",
    "    Idelta = (Imax - Imin) / nb_segments\n",
    "\n",
    "    # 1D seperable filtering\n",
    "    if(self.use_separable):\n",
    "      kernel_X = Gaussian1D(dsize[0], self.sigma_s / self.downsample).kernel\n",
    "      kernel_Y = Gaussian1D(dsize[1], self.sigma_s / self.downsample).kernel\n",
    "      for j in range(nb_segments):\n",
    "        i_j = j * Idelta + Imin\n",
    "\n",
    "        # bilateral filtering for specific sampled pixel intensity\n",
    "        G_j = rkernel.apply(i_j)\n",
    "        K_j = cv2.sepFilter2D(G_j, ddepth=-1, kernelX=kernel_X, kernelY=kernel_Y)\n",
    "        H_j = G_j * I\n",
    "        H_star_j = cv2.sepFilter2D(H_j, ddepth=-1, kernelX=kernel_X, kernelY=kernel_Y)\n",
    "        J_j = H_star_j / (K_j + self.eps)\n",
    "        J_j = cv2.resize(J_j, dsize=(img_W, img_H), interpolation=cv2.INTER_LINEAR)\n",
    "\n",
    "        # get pixel intensity interpolation weights\n",
    "        I_diff = np.abs(image - i_j)\n",
    "        mask = I_diff < Idelta\n",
    "        interpolation_weight = mask * (1 - (I_diff / Idelta))\n",
    "\n",
    "        # construct filtered image\n",
    "        J_img = J_img + J_j * interpolation_weight\n",
    "\n",
    "    else:\n",
    "      # 2D filtering\n",
    "      kernel_space = Gaussian2D(dsize, self.sigma_s / self.downsample)\n",
    "      for j in range(nb_segments):\n",
    "        i_j = j * Idelta + Imin\n",
    "        \n",
    "        # bilateral filtering for specific sampled pixel intensity\n",
    "        G_j = rkernel.apply(i_j)\n",
    "        K_j = cv2.filter2D(G_j, ddepth=-1, kernel=kernel_space.kernel)\n",
    "        H_j = G_j * I\n",
    "        H_star_j = cv2.filter2D(H_j, ddepth=-1, kernel=kernel_space.kernel)\n",
    "        J_j = H_star_j / (K_j + self.eps)\n",
    "        J_j = cv2.resize(J_j, dsize=(img_W, img_H), interpolation=cv2.INTER_LINEAR)\n",
    "\n",
    "        # get pixel internsity interpolation weights\n",
    "        I_diff = np.abs(I - i_j)\n",
    "        mask = I_diff < Idelta\n",
    "        interpolation_weight = mask * (1 - I_diff / Idelta)\n",
    "\n",
    "        # construct filtered image\n",
    "        J_img = J_img  + J_j * interpolation_weight\n",
    "    J_img2 = cv2.bilateralFilter(image, d=self.downsample, \n",
    "      sigmaColor=self.sigma_r, sigmaSpace=self.sigma_s)\n",
    "\n",
    "    im_save = np.concatenate([J_img, J_img2], axis=-1)\n",
    "    # cv2.imwrite(self.save_loc+'/image_bf.jpg', (im_save * 255).astype(np.float32), [cv2.IMWRITE_JPEG_QUALITY, 95])\n",
    "    plt.figure(figsize=(8,8))\n",
    "    plt.subplot(121)\n",
    "    plt.imshow(J_img, cmap='gray')\n",
    "    plt.title('Implemented Bilateral Filter')\n",
    "    plt.subplot(122)\n",
    "    plt.imshow(J_img2, cmap='gray')\n",
    "    plt.title('Bilateral Filter using OpenCV')\n",
    "\n",
    "    return [J_img, J_img2]\n",
    "\n",
    "\n",
    "class GaussianRange():\n",
    "  \"\"\" Used to generate an intensity range Gaussian.\n",
    "  Args:\n",
    "    x - input image\n",
    "    sigma - standard deviation of Gaussian\n",
    "    \n",
    "  \"\"\"\n",
    "  def __init__(self, x, sigma):\n",
    "    self.x = x\n",
    "    self.sigma = sigma\n",
    "\n",
    "  def apply(self, px_intensity):\n",
    "    distance_squared = (self.x - px_intensity)**2\n",
    "    response = 1 / (np.sqrt(2 * np.pi) * self.sigma) \\\n",
    "      * np.exp(-distance_squared / (2 * self.sigma**2))\n",
    "\n",
    "    return response\n",
    "\n",
    "\n",
    "class Gaussian1D():\n",
    "  \"\"\" Used to generate a 1D Gaussian.\n",
    "  Args:\n",
    "    ksize - shape of 1D Gaussian\n",
    "    sigma - standard deviation of Gaussian\n",
    "    \n",
    "  \"\"\"\n",
    "  def __init__(self, ksize, sigma):\n",
    "    self.ksize = ksize\n",
    "    self.sigma = sigma\n",
    "    self.center = lambda x: x//2 if x//2 == 0 else (x-1)//2\n",
    "    self.kernel = self.create_gaussian_kernel()\n",
    "\n",
    "  def create_gaussian_kernel(self):\n",
    "    gaussian_matrix = np.zeros((self.ksize,))\n",
    "    values = np.linspace(0, self.ksize, self.ksize, endpoint=False)\n",
    "    distance_squared = (values - self.center(self.ksize))**2\n",
    "    self.kernel = 1 / (np.sqrt(2 * np.pi) * self.sigma) \\\n",
    "      * np.exp(-distance_squared / (2 * self.sigma**2))\n",
    "\n",
    "    return self.kernel\n",
    "\n",
    "\n",
    "class Gaussian2D():\n",
    "  \"\"\" Used to generate a 2D spatial Gaussian.\n",
    "  Args:\n",
    "    ksize - shape of 2D Gaussian\n",
    "    sigma - standard deviation of Gaussian\n",
    "  \"\"\"\n",
    "  def __init__(self, ksize, sigma):\n",
    "    self.W, self.H = ksize[0], ksize[1]\n",
    "    self.sigma = sigma\n",
    "    self.center = lambda x: x//2 if x//2 == 0 else (x-1)//2\n",
    "    self.kernel = self.create_spatial_gaussian()\n",
    "\n",
    "  def create_spatial_gaussian(self):\n",
    "    gaussian_matrix = np.zeros((self.H, self.W))\n",
    "    cols, rows = np.meshgrid(\n",
    "      np.linspace(0, self.H, self.H, endpoint=False), \n",
    "      np.linspace(0, self.W, self.W, endpoint=False)\n",
    "      )\n",
    "\n",
    "    distance_squared = (cols - self.center(self.W))**2 + (rows - self.center(self.H))**2\n",
    "    self.kernel = 1 / (2 * np.pi * self.sigma**2) \\\n",
    "      * np.exp(-distance_squared / (2 * self.sigma**2))\n",
    "\n",
    "    return self.kernel"
   ]
  },
  {
   "cell_type": "code",
   "execution_count": null,
   "id": "7b024c65",
   "metadata": {},
   "outputs": [],
   "source": []
  },
  {
   "cell_type": "code",
   "execution_count": null,
   "id": "17e97e15",
   "metadata": {},
   "outputs": [],
   "source": [
    "bilateralfilter = BilateralFilter(sigma_s, sigma_r, 4)"
   ]
  },
  {
   "cell_type": "code",
   "execution_count": null,
   "id": "d4dedd3d",
   "metadata": {},
   "outputs": [],
   "source": [
    "bilateralfilter = BilateralFilter(sigma_s, sigma_r, 4)\n",
    "data = bilateralfilter.filter(image_intensity_log)"
   ]
  },
  {
   "cell_type": "code",
   "execution_count": null,
   "id": "6b7c5faf",
   "metadata": {},
   "outputs": [],
   "source": [
    "plt.imshow(data[0])\n",
    "plt.show()"
   ]
  },
  {
   "cell_type": "code",
   "execution_count": null,
   "id": "2d148f68",
   "metadata": {},
   "outputs": [],
   "source": [
    "plt.imshow(data[1])\n",
    "plt.show()"
   ]
  },
  {
   "cell_type": "code",
   "execution_count": null,
   "id": "450cb8fd",
   "metadata": {},
   "outputs": [],
   "source": []
  },
  {
   "cell_type": "code",
   "execution_count": null,
   "id": "3e139497",
   "metadata": {},
   "outputs": [],
   "source": [
    "bilateral_filter_OpenCV = cv2.bilateralFilter(image_intensity_log.astype(np.float32),  5, 12.0, 16.0)\n",
    "plt.imshow(bilateral_filter_OpenCV)\n",
    "plt.show()"
   ]
  },
  {
   "cell_type": "code",
   "execution_count": null,
   "id": "280e088c",
   "metadata": {},
   "outputs": [],
   "source": [
    "D = image_intensity_log - bilateral_filter_OpenCV"
   ]
  },
  {
   "cell_type": "code",
   "execution_count": null,
   "id": "26ea8cae",
   "metadata": {},
   "outputs": [],
   "source": [
    "plt.imshow(D)\n",
    "plt.show() "
   ]
  },
  {
   "cell_type": "code",
   "execution_count": null,
   "id": "e34f1d7b",
   "metadata": {},
   "outputs": [],
   "source": []
  }
 ],
 "metadata": {
  "kernelspec": {
   "display_name": "Python 3",
   "language": "python",
   "name": "python3"
  },
  "language_info": {
   "codemirror_mode": {
    "name": "ipython",
    "version": 3
   },
   "file_extension": ".py",
   "mimetype": "text/x-python",
   "name": "python",
   "nbconvert_exporter": "python",
   "pygments_lexer": "ipython3",
   "version": "3.9.2"
  }
 },
 "nbformat": 4,
 "nbformat_minor": 5
}
